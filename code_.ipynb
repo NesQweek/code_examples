{
 "cells": [
  {
   "cell_type": "markdown",
   "metadata": {},
   "source": [
    "# Init"
   ]
  },
  {
   "cell_type": "code",
   "execution_count": 3,
   "metadata": {},
   "outputs": [],
   "source": [
    "import os, sys\n",
    "os.environ['JAVA_HOME'] = '/usr/lib/jvm/java-21-openjdk-amd64'\n",
    "os.environ['PYSPARK_PYTHON'] = sys.executable                # Путь к текущему интерпретатору\n",
    "os.environ['PYSPARK_DRIVER_PYTHON'] = sys.executable "
   ]
  },
  {
   "cell_type": "code",
   "execution_count": 2,
   "metadata": {},
   "outputs": [],
   "source": [
    "from pyspark import SparkConf, SparkContext"
   ]
  },
  {
   "cell_type": "code",
   "execution_count": 3,
   "metadata": {},
   "outputs": [
    {
     "name": "stderr",
     "output_type": "stream",
     "text": [
      "Picked up _JAVA_OPTIONS: -Dawt.useSystemAAFontSettings=on -Dswing.aatext=true\n",
      "Picked up _JAVA_OPTIONS: -Dawt.useSystemAAFontSettings=on -Dswing.aatext=true\n",
      "24/07/22 13:25:01 WARN Utils: Your hostname, kali resolves to a loopback address: 127.0.1.1; using 192.168.0.101 instead (on interface eth0)\n",
      "24/07/22 13:25:01 WARN Utils: Set SPARK_LOCAL_IP if you need to bind to another address\n",
      "Setting default log level to \"WARN\".\n",
      "To adjust logging level use sc.setLogLevel(newLevel). For SparkR, use setLogLevel(newLevel).\n",
      "24/07/22 13:25:02 WARN NativeCodeLoader: Unable to load native-hadoop library for your platform... using builtin-java classes where applicable\n"
     ]
    }
   ],
   "source": [
    "appName = 'app'\n",
    "master = 'local[*]'\n",
    "\n",
    "conf = SparkConf().setAppName(appName).setMaster(master) \\\n",
    "                  .set(\"spark.executor.extrajavaoptions\", \"-Xss64m\") \\\n",
    "                  .set(\"spark.python.daemon.module\", \"pyspark.daemon\") \\\n",
    "                  .set(\"spark.python.worker.module\", \"pyspark.worker\") \\\n",
    "                  .set(\"spark.python.worker.reuse\", \"true\") \\\n",
    "                  .set(\"spark.python.worker.python\", os.getenv('PYTHON_PATH'))\n",
    "sc = SparkContext(conf=conf)"
   ]
  },
  {
   "cell_type": "code",
   "execution_count": 4,
   "metadata": {},
   "outputs": [
    {
     "data": {
      "text/html": [
       "\n",
       "        <div>\n",
       "            <p><b>SparkContext</b></p>\n",
       "\n",
       "            <p><a href=\"http://192.168.0.101:4040\">Spark UI</a></p>\n",
       "\n",
       "            <dl>\n",
       "              <dt>Version</dt>\n",
       "                <dd><code>v3.5.1</code></dd>\n",
       "              <dt>Master</dt>\n",
       "                <dd><code>local[*]</code></dd>\n",
       "              <dt>AppName</dt>\n",
       "                <dd><code>app</code></dd>\n",
       "            </dl>\n",
       "        </div>\n",
       "        "
      ],
      "text/plain": [
       "<SparkContext master=local[*] appName=app>"
      ]
     },
     "execution_count": 4,
     "metadata": {},
     "output_type": "execute_result"
    },
    {
     "name": "stderr",
     "output_type": "stream",
     "text": [
      "24/07/22 13:25:16 WARN GarbageCollectionMetrics: To enable non-built-in garbage collector(s) List(G1 Concurrent GC), users should configure it(them) to spark.eventLog.gcMetrics.youngGenerationGarbageCollectors or spark.eventLog.gcMetrics.oldGenerationGarbageCollectors\n"
     ]
    }
   ],
   "source": [
    "sc"
   ]
  },
  {
   "cell_type": "markdown",
   "metadata": {},
   "source": [
    "# RDD"
   ]
  },
  {
   "cell_type": "code",
   "execution_count": 31,
   "metadata": {},
   "outputs": [
    {
     "name": "stderr",
     "output_type": "stream",
     "text": [
      "24/07/22 14:46:11 WARN TaskSetManager: Stage 21 contains a task of very large size (2332 KiB). The maximum recommended task size is 1000 KiB.\n",
      "                                                                                \r"
     ]
    },
    {
     "data": {
      "text/plain": [
       "[0, 1, 2, 3, 4]"
      ]
     },
     "execution_count": 31,
     "metadata": {},
     "output_type": "execute_result"
    }
   ],
   "source": [
    "nums = list(range(0, 1000000))\n",
    "\n",
    "nums_rdd = sc.parallelize(nums)\n",
    "nums_rdd.take(5)\n",
    "# ...\n",
    "# операции над RDD\n",
    "# ..."
   ]
  },
  {
   "cell_type": "markdown",
   "metadata": {},
   "source": [
    "# SQL"
   ]
  },
  {
   "cell_type": "code",
   "execution_count": 4,
   "metadata": {},
   "outputs": [],
   "source": [
    "from pyspark.sql import SparkSession"
   ]
  },
  {
   "cell_type": "code",
   "execution_count": 5,
   "metadata": {},
   "outputs": [
    {
     "name": "stderr",
     "output_type": "stream",
     "text": [
      "Picked up _JAVA_OPTIONS: -Dawt.useSystemAAFontSettings=on -Dswing.aatext=true\n",
      "Picked up _JAVA_OPTIONS: -Dawt.useSystemAAFontSettings=on -Dswing.aatext=true\n",
      "24/07/22 19:15:45 WARN Utils: Your hostname, kali resolves to a loopback address: 127.0.1.1; using 192.168.0.101 instead (on interface eth0)\n",
      "24/07/22 19:15:45 WARN Utils: Set SPARK_LOCAL_IP if you need to bind to another address\n",
      "Setting default log level to \"WARN\".\n",
      "To adjust logging level use sc.setLogLevel(newLevel). For SparkR, use setLogLevel(newLevel).\n",
      "24/07/22 19:15:47 WARN NativeCodeLoader: Unable to load native-hadoop library for your platform... using builtin-java classes where applicable\n"
     ]
    },
    {
     "data": {
      "text/html": [
       "\n",
       "            <div>\n",
       "                <p><b>SparkSession - in-memory</b></p>\n",
       "                \n",
       "        <div>\n",
       "            <p><b>SparkContext</b></p>\n",
       "\n",
       "            <p><a href=\"http://192.168.0.101:4040\">Spark UI</a></p>\n",
       "\n",
       "            <dl>\n",
       "              <dt>Version</dt>\n",
       "                <dd><code>v3.5.1</code></dd>\n",
       "              <dt>Master</dt>\n",
       "                <dd><code>local[*]</code></dd>\n",
       "              <dt>AppName</dt>\n",
       "                <dd><code>pyspark-shell</code></dd>\n",
       "            </dl>\n",
       "        </div>\n",
       "        \n",
       "            </div>\n",
       "        "
      ],
      "text/plain": [
       "<pyspark.sql.session.SparkSession at 0x7ff4aae5bc50>"
      ]
     },
     "execution_count": 5,
     "metadata": {},
     "output_type": "execute_result"
    }
   ],
   "source": [
    "master = 'local[*]'\n",
    "\n",
    "spark = SparkSession            \\\n",
    "        .builder                \\\n",
    "        .master(master)         \\\n",
    "        .getOrCreate()  \n",
    "\n",
    "spark.conf.set('spark.sql.repl.eagerEval.enabled', True) # format output tables better\n",
    "spark"
   ]
  },
  {
   "cell_type": "markdown",
   "metadata": {},
   "source": [
    "### DataFrame"
   ]
  },
  {
   "cell_type": "code",
   "execution_count": 48,
   "metadata": {},
   "outputs": [
    {
     "name": "stdout",
     "output_type": "stream",
     "text": [
      "Dataset URL: https://www.kaggle.com/datasets/brendan45774/test-file\n"
     ]
    }
   ],
   "source": [
    "import kaggle\n",
    "\n",
    "# Войти на Kaggle\n",
    "kaggle.api.authenticate()\n",
    "# Загрузить набор данных\n",
    "kaggle.api.dataset_download_files('brendan45774/test-file', path='tested', unzip=True)"
   ]
  },
  {
   "cell_type": "code",
   "execution_count": 51,
   "metadata": {},
   "outputs": [
    {
     "data": {
      "text/plain": [
       "0"
      ]
     },
     "execution_count": 51,
     "metadata": {},
     "output_type": "execute_result"
    }
   ],
   "source": [
    "os.system('mv tested data')"
   ]
  },
  {
   "cell_type": "code",
   "execution_count": 6,
   "metadata": {},
   "outputs": [
    {
     "name": "stderr",
     "output_type": "stream",
     "text": [
      "24/07/22 19:16:02 WARN GarbageCollectionMetrics: To enable non-built-in garbage collector(s) List(G1 Concurrent GC), users should configure it(them) to spark.eventLog.gcMetrics.youngGenerationGarbageCollectors or spark.eventLog.gcMetrics.oldGenerationGarbageCollectors\n",
      "                                                                                \r"
     ]
    },
    {
     "data": {
      "text/html": [
       "<table border='1'>\n",
       "<tr><th>PassengerId</th><th>Survived</th><th>Pclass</th><th>Name</th><th>Sex</th><th>Age</th><th>SibSp</th><th>Parch</th><th>Ticket</th><th>Fare</th><th>Cabin</th><th>Embarked</th></tr>\n",
       "<tr><td>892</td><td>0</td><td>3</td><td>Kelly, Mr. James</td><td>male</td><td>34.5</td><td>0</td><td>0</td><td>330911</td><td>7.8292</td><td>NULL</td><td>Q</td></tr>\n",
       "<tr><td>893</td><td>1</td><td>3</td><td>Wilkes, Mrs. Jame...</td><td>female</td><td>47.0</td><td>1</td><td>0</td><td>363272</td><td>7.0</td><td>NULL</td><td>S</td></tr>\n",
       "<tr><td>894</td><td>0</td><td>2</td><td>Myles, Mr. Thomas...</td><td>male</td><td>62.0</td><td>0</td><td>0</td><td>240276</td><td>9.6875</td><td>NULL</td><td>Q</td></tr>\n",
       "<tr><td>895</td><td>0</td><td>3</td><td>Wirz, Mr. Albert</td><td>male</td><td>27.0</td><td>0</td><td>0</td><td>315154</td><td>8.6625</td><td>NULL</td><td>S</td></tr>\n",
       "<tr><td>896</td><td>1</td><td>3</td><td>Hirvonen, Mrs. Al...</td><td>female</td><td>22.0</td><td>1</td><td>1</td><td>3101298</td><td>12.2875</td><td>NULL</td><td>S</td></tr>\n",
       "</table>\n"
      ],
      "text/plain": [
       "+-----------+--------+------+--------------------+------+----+-----+-----+-------+-------+-----+--------+\n",
       "|PassengerId|Survived|Pclass|                Name|   Sex| Age|SibSp|Parch| Ticket|   Fare|Cabin|Embarked|\n",
       "+-----------+--------+------+--------------------+------+----+-----+-----+-------+-------+-----+--------+\n",
       "|        892|       0|     3|    Kelly, Mr. James|  male|34.5|    0|    0| 330911| 7.8292| NULL|       Q|\n",
       "|        893|       1|     3|Wilkes, Mrs. Jame...|female|47.0|    1|    0| 363272|    7.0| NULL|       S|\n",
       "|        894|       0|     2|Myles, Mr. Thomas...|  male|62.0|    0|    0| 240276| 9.6875| NULL|       Q|\n",
       "|        895|       0|     3|    Wirz, Mr. Albert|  male|27.0|    0|    0| 315154| 8.6625| NULL|       S|\n",
       "|        896|       1|     3|Hirvonen, Mrs. Al...|female|22.0|    1|    1|3101298|12.2875| NULL|       S|\n",
       "+-----------+--------+------+--------------------+------+----+-----+-----+-------+-------+-----+--------+"
      ]
     },
     "execution_count": 6,
     "metadata": {},
     "output_type": "execute_result"
    }
   ],
   "source": [
    "# Загрузить .csv в датафрейм\n",
    "titanic_df = spark.read.csv('data/tested.csv', header=True, inferSchema=True)\n",
    "titanic_df.limit(5)"
   ]
  },
  {
   "cell_type": "code",
   "execution_count": 5,
   "metadata": {},
   "outputs": [
    {
     "name": "stdout",
     "output_type": "stream",
     "text": [
      "root\n",
      " |-- PassengerId: integer (nullable = true)\n",
      " |-- Survived: integer (nullable = true)\n",
      " |-- Pclass: integer (nullable = true)\n",
      " |-- Name: string (nullable = true)\n",
      " |-- Sex: string (nullable = true)\n",
      " |-- Age: double (nullable = true)\n",
      " |-- SibSp: integer (nullable = true)\n",
      " |-- Parch: integer (nullable = true)\n",
      " |-- Ticket: string (nullable = true)\n",
      " |-- Fare: double (nullable = true)\n",
      " |-- Cabin: string (nullable = true)\n",
      " |-- Embarked: string (nullable = true)\n",
      "\n"
     ]
    }
   ],
   "source": [
    "titanic_df.printSchema()"
   ]
  },
  {
   "cell_type": "code",
   "execution_count": 6,
   "metadata": {},
   "outputs": [
    {
     "data": {
      "text/html": [
       "<table border='1'>\n",
       "<tr><th>PassengerId</th><th>Survived</th></tr>\n",
       "<tr><td>892</td><td>0</td></tr>\n",
       "<tr><td>893</td><td>1</td></tr>\n",
       "<tr><td>894</td><td>0</td></tr>\n",
       "<tr><td>895</td><td>0</td></tr>\n",
       "<tr><td>896</td><td>1</td></tr>\n",
       "</table>\n"
      ],
      "text/plain": [
       "+-----------+--------+\n",
       "|PassengerId|Survived|\n",
       "+-----------+--------+\n",
       "|        892|       0|\n",
       "|        893|       1|\n",
       "|        894|       0|\n",
       "|        895|       0|\n",
       "|        896|       1|\n",
       "+-----------+--------+"
      ]
     },
     "execution_count": 6,
     "metadata": {},
     "output_type": "execute_result"
    }
   ],
   "source": [
    "titanic_df.select('PassengerId', 'Survived').limit(5)"
   ]
  },
  {
   "cell_type": "code",
   "execution_count": 9,
   "metadata": {},
   "outputs": [
    {
     "data": {
      "text/html": [
       "<table border='1'>\n",
       "<tr><th>PassengerId</th><th>Survived</th><th>Pclass</th><th>Name</th><th>Sex</th><th>Age</th><th>SibSp</th><th>Parch</th><th>Ticket</th><th>Fare</th><th>Cabin</th><th>Embarked</th></tr>\n",
       "<tr><td>893</td><td>1</td><td>3</td><td>Wilkes, Mrs. Jame...</td><td>female</td><td>47.0</td><td>1</td><td>0</td><td>363272</td><td>7.0</td><td>NULL</td><td>S</td></tr>\n",
       "<tr><td>898</td><td>1</td><td>3</td><td>Connolly, Miss. Kate</td><td>female</td><td>30.0</td><td>0</td><td>0</td><td>330972</td><td>7.6292</td><td>NULL</td><td>Q</td></tr>\n",
       "<tr><td>906</td><td>1</td><td>1</td><td>Chaffee, Mrs. Her...</td><td>female</td><td>47.0</td><td>1</td><td>0</td><td>W.E.P. 5734</td><td>61.175</td><td>E31</td><td>S</td></tr>\n",
       "<tr><td>910</td><td>1</td><td>3</td><td>Ilmakangas, Miss....</td><td>female</td><td>27.0</td><td>1</td><td>0</td><td>STON/O2. 3101270</td><td>7.925</td><td>NULL</td><td>S</td></tr>\n",
       "<tr><td>911</td><td>1</td><td>3</td><td>&quot;Assaf Khalil, Mr...</td><td>female</td><td>45.0</td><td>0</td><td>0</td><td>2696</td><td>7.225</td><td>NULL</td><td>C</td></tr>\n",
       "</table>\n"
      ],
      "text/plain": [
       "+-----------+--------+------+--------------------+------+----+-----+-----+----------------+------+-----+--------+\n",
       "|PassengerId|Survived|Pclass|                Name|   Sex| Age|SibSp|Parch|          Ticket|  Fare|Cabin|Embarked|\n",
       "+-----------+--------+------+--------------------+------+----+-----+-----+----------------+------+-----+--------+\n",
       "|        893|       1|     3|Wilkes, Mrs. Jame...|female|47.0|    1|    0|          363272|   7.0| NULL|       S|\n",
       "|        898|       1|     3|Connolly, Miss. Kate|female|30.0|    0|    0|          330972|7.6292| NULL|       Q|\n",
       "|        906|       1|     1|Chaffee, Mrs. Her...|female|47.0|    1|    0|     W.E.P. 5734|61.175|  E31|       S|\n",
       "|        910|       1|     3|Ilmakangas, Miss....|female|27.0|    1|    0|STON/O2. 3101270| 7.925| NULL|       S|\n",
       "|        911|       1|     3|\"Assaf Khalil, Mr...|female|45.0|    0|    0|            2696| 7.225| NULL|       C|\n",
       "+-----------+--------+------+--------------------+------+----+-----+-----+----------------+------+-----+--------+"
      ]
     },
     "execution_count": 9,
     "metadata": {},
     "output_type": "execute_result"
    }
   ],
   "source": [
    "titanic_df.where(\n",
    "                  (titanic_df.Age > 25) & (titanic_df.Survived == 1)\n",
    "                )                                                                   \\\n",
    "                .limit(5)"
   ]
  },
  {
   "cell_type": "code",
   "execution_count": 10,
   "metadata": {},
   "outputs": [
    {
     "data": {
      "text/html": [
       "<table border='1'>\n",
       "<tr><th>avg(Fare)</th></tr>\n",
       "<tr><td>35.6271884892086</td></tr>\n",
       "</table>\n"
      ],
      "text/plain": [
       "+----------------+\n",
       "|       avg(Fare)|\n",
       "+----------------+\n",
       "|35.6271884892086|\n",
       "+----------------+"
      ]
     },
     "execution_count": 10,
     "metadata": {},
     "output_type": "execute_result"
    }
   ],
   "source": [
    "titanic_df.agg({'Fare':'avg'})"
   ]
  },
  {
   "cell_type": "code",
   "execution_count": 13,
   "metadata": {},
   "outputs": [
    {
     "data": {
      "text/html": [
       "<table border='1'>\n",
       "<tr><th>Pclass</th><th>avg(Fare)</th></tr>\n",
       "<tr><td>3</td><td>12.459677880184334</td></tr>\n",
       "<tr><td>2</td><td>22.20210430107527</td></tr>\n",
       "<tr><td>1</td><td>94.28029719626169</td></tr>\n",
       "</table>\n"
      ],
      "text/plain": [
       "+------+------------------+\n",
       "|Pclass|         avg(Fare)|\n",
       "+------+------------------+\n",
       "|     3|12.459677880184334|\n",
       "|     2| 22.20210430107527|\n",
       "|     1| 94.28029719626169|\n",
       "+------+------------------+"
      ]
     },
     "execution_count": 13,
     "metadata": {},
     "output_type": "execute_result"
    }
   ],
   "source": [
    "titanic_df.groupBy('Pclass')                    \\\n",
    "          .agg({'Fare': 'avg'})                 \\\n",
    "          .orderBy('Pclass', ascending=False)"
   ]
  },
  {
   "cell_type": "code",
   "execution_count": 14,
   "metadata": {},
   "outputs": [
    {
     "data": {
      "text/html": [
       "<table border='1'>\n",
       "<tr><th>avg(Fare)</th></tr>\n",
       "<tr><td>54.10220476190474</td></tr>\n",
       "</table>\n"
      ],
      "text/plain": [
       "+-----------------+\n",
       "|        avg(Fare)|\n",
       "+-----------------+\n",
       "|54.10220476190474|\n",
       "+-----------------+"
      ]
     },
     "execution_count": 14,
     "metadata": {},
     "output_type": "execute_result"
    }
   ],
   "source": [
    "titanic_df.filter(titanic_df.Age > 25)          \\\n",
    "          .agg({'Fare': 'avg'})"
   ]
  },
  {
   "cell_type": "code",
   "execution_count": 13,
   "metadata": {},
   "outputs": [
    {
     "name": "stderr",
     "output_type": "stream",
     "text": [
      "                                                                                \r"
     ]
    },
    {
     "data": {
      "text/html": [
       "<table border='1'>\n",
       "<tr><th>PassengerId</th><th>Fare</th><th>Fare Rounded Down</th></tr>\n",
       "<tr><td>892</td><td>7.8292</td><td>7</td></tr>\n",
       "<tr><td>893</td><td>7.0</td><td>7</td></tr>\n",
       "<tr><td>894</td><td>9.6875</td><td>9</td></tr>\n",
       "<tr><td>895</td><td>8.6625</td><td>8</td></tr>\n",
       "<tr><td>896</td><td>12.2875</td><td>12</td></tr>\n",
       "</table>\n"
      ],
      "text/plain": [
       "+-----------+-------+-----------------+\n",
       "|PassengerId|   Fare|Fare Rounded Down|\n",
       "+-----------+-------+-----------------+\n",
       "|        892| 7.8292|                7|\n",
       "|        893|    7.0|                7|\n",
       "|        894| 9.6875|                9|\n",
       "|        895| 8.6625|                8|\n",
       "|        896|12.2875|               12|\n",
       "+-----------+-------+-----------------+"
      ]
     },
     "execution_count": 13,
     "metadata": {},
     "output_type": "execute_result"
    }
   ],
   "source": [
    "from pyspark.sql.types import IntegerType\n",
    "from pyspark.sql.functions import udf # user defined func - функция определенная пользователем\n",
    "\n",
    "def round_float_down(x):\n",
    "    return int(x)\n",
    "\n",
    "round_float_down_udf = udf(round_float_down, IntegerType())\n",
    "\n",
    "titanic_df.select(\n",
    "                  'PassengerId', \n",
    "                  'Fare',\n",
    "                  round_float_down_udf('Fare').alias('Fare Rounded Down')) \\\n",
    "          .limit(5)"
   ]
  },
  {
   "cell_type": "code",
   "execution_count": 20,
   "metadata": {},
   "outputs": [],
   "source": [
    "titanic_df.createOrReplaceTempView('Titanic')"
   ]
  },
  {
   "cell_type": "code",
   "execution_count": 21,
   "metadata": {},
   "outputs": [
    {
     "data": {
      "text/html": [
       "<table border='1'>\n",
       "<tr><th>PassengerId</th><th>Survived</th><th>Pclass</th><th>Name</th><th>Sex</th><th>Age</th><th>SibSp</th><th>Parch</th><th>Ticket</th><th>Fare</th><th>Cabin</th><th>Embarked</th></tr>\n",
       "<tr><td>892</td><td>0</td><td>3</td><td>Kelly, Mr. James</td><td>male</td><td>34.5</td><td>0</td><td>0</td><td>330911</td><td>7.8292</td><td>NULL</td><td>Q</td></tr>\n",
       "<tr><td>893</td><td>1</td><td>3</td><td>Wilkes, Mrs. Jame...</td><td>female</td><td>47.0</td><td>1</td><td>0</td><td>363272</td><td>7.0</td><td>NULL</td><td>S</td></tr>\n",
       "<tr><td>894</td><td>0</td><td>2</td><td>Myles, Mr. Thomas...</td><td>male</td><td>62.0</td><td>0</td><td>0</td><td>240276</td><td>9.6875</td><td>NULL</td><td>Q</td></tr>\n",
       "<tr><td>895</td><td>0</td><td>3</td><td>Wirz, Mr. Albert</td><td>male</td><td>27.0</td><td>0</td><td>0</td><td>315154</td><td>8.6625</td><td>NULL</td><td>S</td></tr>\n",
       "<tr><td>896</td><td>1</td><td>3</td><td>Hirvonen, Mrs. Al...</td><td>female</td><td>22.0</td><td>1</td><td>1</td><td>3101298</td><td>12.2875</td><td>NULL</td><td>S</td></tr>\n",
       "</table>\n"
      ],
      "text/plain": [
       "+-----------+--------+------+--------------------+------+----+-----+-----+-------+-------+-----+--------+\n",
       "|PassengerId|Survived|Pclass|                Name|   Sex| Age|SibSp|Parch| Ticket|   Fare|Cabin|Embarked|\n",
       "+-----------+--------+------+--------------------+------+----+-----+-----+-------+-------+-----+--------+\n",
       "|        892|       0|     3|    Kelly, Mr. James|  male|34.5|    0|    0| 330911| 7.8292| NULL|       Q|\n",
       "|        893|       1|     3|Wilkes, Mrs. Jame...|female|47.0|    1|    0| 363272|    7.0| NULL|       S|\n",
       "|        894|       0|     2|Myles, Mr. Thomas...|  male|62.0|    0|    0| 240276| 9.6875| NULL|       Q|\n",
       "|        895|       0|     3|    Wirz, Mr. Albert|  male|27.0|    0|    0| 315154| 8.6625| NULL|       S|\n",
       "|        896|       1|     3|Hirvonen, Mrs. Al...|female|22.0|    1|    1|3101298|12.2875| NULL|       S|\n",
       "+-----------+--------+------+--------------------+------+----+-----+-----+-------+-------+-----+--------+"
      ]
     },
     "execution_count": 21,
     "metadata": {},
     "output_type": "execute_result"
    }
   ],
   "source": [
    "spark.sql(\n",
    "\"\"\"\n",
    "SELECT * \n",
    "FROM Titanic\n",
    "LIMIT 5\n",
    "\"\"\"\n",
    "         )"
   ]
  },
  {
   "cell_type": "markdown",
   "metadata": {},
   "source": [
    "# Functions"
   ]
  },
  {
   "cell_type": "code",
   "execution_count": 15,
   "metadata": {},
   "outputs": [],
   "source": [
    "from pyspark.sql import functions as F"
   ]
  },
  {
   "cell_type": "code",
   "execution_count": 27,
   "metadata": {},
   "outputs": [
    {
     "data": {
      "text/html": [
       "<table border='1'>\n",
       "<tr><th>Name</th><th>Name_sex</th></tr>\n",
       "<tr><td>Kelly, Mr. James</td><td>Kelly, Mr. Jamesmale</td></tr>\n",
       "<tr><td>Wilkes, Mrs. Jame...</td><td>Wilkes, Mrs. Jame...</td></tr>\n",
       "<tr><td>Myles, Mr. Thomas...</td><td>Myles, Mr. Thomas...</td></tr>\n",
       "<tr><td>Wirz, Mr. Albert</td><td>Wirz, Mr. Albertmale</td></tr>\n",
       "<tr><td>Hirvonen, Mrs. Al...</td><td>Hirvonen, Mrs. Al...</td></tr>\n",
       "</table>\n"
      ],
      "text/plain": [
       "+--------------------+--------------------+\n",
       "|                Name|            Name_sex|\n",
       "+--------------------+--------------------+\n",
       "|    Kelly, Mr. James|Kelly, Mr. Jamesmale|\n",
       "|Wilkes, Mrs. Jame...|Wilkes, Mrs. Jame...|\n",
       "|Myles, Mr. Thomas...|Myles, Mr. Thomas...|\n",
       "|    Wirz, Mr. Albert|Wirz, Mr. Albertmale|\n",
       "|Hirvonen, Mrs. Al...|Hirvonen, Mrs. Al...|\n",
       "+--------------------+--------------------+"
      ]
     },
     "execution_count": 27,
     "metadata": {},
     "output_type": "execute_result"
    }
   ],
   "source": [
    "newDf = titanic_df.select(\n",
    "                            'Name', \n",
    "                            F.concat('Name', 'Sex').alias('Name_sex')\n",
    "                        )\n",
    "newDf.limit(5)"
   ]
  },
  {
   "cell_type": "markdown",
   "metadata": {},
   "source": [
    "## drop column"
   ]
  },
  {
   "cell_type": "code",
   "execution_count": 28,
   "metadata": {},
   "outputs": [
    {
     "name": "stderr",
     "output_type": "stream",
     "text": [
      "                                                                                \r"
     ]
    },
    {
     "data": {
      "text/html": [
       "<table border='1'>\n",
       "<tr><th>Name</th></tr>\n",
       "<tr><td>Kelly, Mr. James</td></tr>\n",
       "<tr><td>Wilkes, Mrs. Jame...</td></tr>\n",
       "<tr><td>Myles, Mr. Thomas...</td></tr>\n",
       "<tr><td>Wirz, Mr. Albert</td></tr>\n",
       "<tr><td>Hirvonen, Mrs. Al...</td></tr>\n",
       "</table>\n"
      ],
      "text/plain": [
       "+--------------------+\n",
       "|                Name|\n",
       "+--------------------+\n",
       "|    Kelly, Mr. James|\n",
       "|Wilkes, Mrs. Jame...|\n",
       "|Myles, Mr. Thomas...|\n",
       "|    Wirz, Mr. Albert|\n",
       "|Hirvonen, Mrs. Al...|\n",
       "+--------------------+"
      ]
     },
     "execution_count": 28,
     "metadata": {},
     "output_type": "execute_result"
    }
   ],
   "source": [
    "newDf = newDf.drop(newDf['Name_sex'])\n",
    "newDf.limit(5)"
   ]
  },
  {
   "cell_type": "markdown",
   "metadata": {},
   "source": [
    "## add column"
   ]
  },
  {
   "cell_type": "code",
   "execution_count": 29,
   "metadata": {},
   "outputs": [
    {
     "data": {
      "text/html": [
       "<table border='1'>\n",
       "<tr><th>Name</th><th>first_letter</th></tr>\n",
       "<tr><td>Kelly, Mr. James</td><td>K</td></tr>\n",
       "<tr><td>Wilkes, Mrs. Jame...</td><td>W</td></tr>\n",
       "<tr><td>Myles, Mr. Thomas...</td><td>M</td></tr>\n",
       "<tr><td>Wirz, Mr. Albert</td><td>W</td></tr>\n",
       "<tr><td>Hirvonen, Mrs. Al...</td><td>H</td></tr>\n",
       "</table>\n"
      ],
      "text/plain": [
       "+--------------------+------------+\n",
       "|                Name|first_letter|\n",
       "+--------------------+------------+\n",
       "|    Kelly, Mr. James|           K|\n",
       "|Wilkes, Mrs. Jame...|           W|\n",
       "|Myles, Mr. Thomas...|           M|\n",
       "|    Wirz, Mr. Albert|           W|\n",
       "|Hirvonen, Mrs. Al...|           H|\n",
       "+--------------------+------------+"
      ]
     },
     "execution_count": 29,
     "metadata": {},
     "output_type": "execute_result"
    }
   ],
   "source": [
    "newDf = newDf.withColumn('first_letter', F.substring('Name', 1, 1))\n",
    "newDf.limit(5)"
   ]
  },
  {
   "cell_type": "markdown",
   "metadata": {},
   "source": [
    "## filter"
   ]
  },
  {
   "cell_type": "code",
   "execution_count": 32,
   "metadata": {},
   "outputs": [
    {
     "data": {
      "text/html": [
       "<table border='1'>\n",
       "<tr><th>PassengerId</th><th>Survived</th><th>Pclass</th><th>Name</th><th>Sex</th><th>Age</th><th>SibSp</th><th>Parch</th><th>Ticket</th><th>Fare</th><th>Cabin</th><th>Embarked</th></tr>\n",
       "<tr><td>1115</td><td>0</td><td>3</td><td>Karlsson, Mr. Ein...</td><td>male</td><td>21.0</td><td>0</td><td>0</td><td>350053</td><td>7.7958</td><td>NULL</td><td>S</td></tr>\n",
       "<tr><td>1087</td><td>0</td><td>3</td><td>Karlsson, Mr. Jul...</td><td>male</td><td>33.0</td><td>0</td><td>0</td><td>347465</td><td>7.8542</td><td>NULL</td><td>S</td></tr>\n",
       "<tr><td>1138</td><td>1</td><td>2</td><td>Karnes, Mrs. J Fr...</td><td>female</td><td>22.0</td><td>0</td><td>0</td><td>F.C.C. 13534</td><td>21.0</td><td>NULL</td><td>S</td></tr>\n",
       "<tr><td>932</td><td>0</td><td>3</td><td>Karun, Mr. Franz</td><td>male</td><td>39.0</td><td>0</td><td>1</td><td>349256</td><td>13.4167</td><td>NULL</td><td>C</td></tr>\n",
       "<tr><td>908</td><td>0</td><td>2</td><td>Keane, Mr. Daniel</td><td>male</td><td>35.0</td><td>0</td><td>0</td><td>233734</td><td>12.35</td><td>NULL</td><td>Q</td></tr>\n",
       "</table>\n"
      ],
      "text/plain": [
       "+-----------+--------+------+--------------------+------+----+-----+-----+------------+-------+-----+--------+\n",
       "|PassengerId|Survived|Pclass|                Name|   Sex| Age|SibSp|Parch|      Ticket|   Fare|Cabin|Embarked|\n",
       "+-----------+--------+------+--------------------+------+----+-----+-----+------------+-------+-----+--------+\n",
       "|       1115|       0|     3|Karlsson, Mr. Ein...|  male|21.0|    0|    0|      350053| 7.7958| NULL|       S|\n",
       "|       1087|       0|     3|Karlsson, Mr. Jul...|  male|33.0|    0|    0|      347465| 7.8542| NULL|       S|\n",
       "|       1138|       1|     2|Karnes, Mrs. J Fr...|female|22.0|    0|    0|F.C.C. 13534|   21.0| NULL|       S|\n",
       "|        932|       0|     3|    Karun, Mr. Franz|  male|39.0|    0|    1|      349256|13.4167| NULL|       C|\n",
       "|        908|       0|     2|   Keane, Mr. Daniel|  male|35.0|    0|    0|      233734|  12.35| NULL|       Q|\n",
       "+-----------+--------+------+--------------------+------+----+-----+-----+------------+-------+-----+--------+"
      ]
     },
     "execution_count": 32,
     "metadata": {},
     "output_type": "execute_result"
    }
   ],
   "source": [
    "titanic_df.filter(\n",
    "                    F.col('Name')\n",
    "                    .startswith('K')\n",
    "                 )                                               \\\n",
    "           .orderBy('Name', ascending=True)                      \\\n",
    "           .limit(5)                                            "
   ]
  },
  {
   "cell_type": "code",
   "execution_count": 35,
   "metadata": {},
   "outputs": [
    {
     "data": {
      "text/html": [
       "<table border='1'>\n",
       "<tr><th>PassengerId</th><th>Survived</th><th>Pclass</th><th>Name</th><th>Sex</th><th>Age</th><th>SibSp</th><th>Parch</th><th>Ticket</th><th>Fare</th><th>Cabin</th><th>Embarked</th></tr>\n",
       "<tr><td>1115</td><td>0</td><td>3</td><td>Karlsson, Mr. Ein...</td><td>male</td><td>21.0</td><td>0</td><td>0</td><td>350053</td><td>7.7958</td><td>NULL</td><td>S</td></tr>\n",
       "<tr><td>1087</td><td>0</td><td>3</td><td>Karlsson, Mr. Jul...</td><td>male</td><td>33.0</td><td>0</td><td>0</td><td>347465</td><td>7.8542</td><td>NULL</td><td>S</td></tr>\n",
       "<tr><td>1138</td><td>1</td><td>2</td><td>Karnes, Mrs. J Fr...</td><td>female</td><td>22.0</td><td>0</td><td>0</td><td>F.C.C. 13534</td><td>21.0</td><td>NULL</td><td>S</td></tr>\n",
       "<tr><td>932</td><td>0</td><td>3</td><td>Karun, Mr. Franz</td><td>male</td><td>39.0</td><td>0</td><td>1</td><td>349256</td><td>13.4167</td><td>NULL</td><td>C</td></tr>\n",
       "<tr><td>908</td><td>0</td><td>2</td><td>Keane, Mr. Daniel</td><td>male</td><td>35.0</td><td>0</td><td>0</td><td>233734</td><td>12.35</td><td>NULL</td><td>Q</td></tr>\n",
       "</table>\n"
      ],
      "text/plain": [
       "+-----------+--------+------+--------------------+------+----+-----+-----+------------+-------+-----+--------+\n",
       "|PassengerId|Survived|Pclass|                Name|   Sex| Age|SibSp|Parch|      Ticket|   Fare|Cabin|Embarked|\n",
       "+-----------+--------+------+--------------------+------+----+-----+-----+------------+-------+-----+--------+\n",
       "|       1115|       0|     3|Karlsson, Mr. Ein...|  male|21.0|    0|    0|      350053| 7.7958| NULL|       S|\n",
       "|       1087|       0|     3|Karlsson, Mr. Jul...|  male|33.0|    0|    0|      347465| 7.8542| NULL|       S|\n",
       "|       1138|       1|     2|Karnes, Mrs. J Fr...|female|22.0|    0|    0|F.C.C. 13534|   21.0| NULL|       S|\n",
       "|        932|       0|     3|    Karun, Mr. Franz|  male|39.0|    0|    1|      349256|13.4167| NULL|       C|\n",
       "|        908|       0|     2|   Keane, Mr. Daniel|  male|35.0|    0|    0|      233734|  12.35| NULL|       Q|\n",
       "+-----------+--------+------+--------------------+------+----+-----+-----+------------+-------+-----+--------+"
      ]
     },
     "execution_count": 35,
     "metadata": {},
     "output_type": "execute_result"
    }
   ],
   "source": [
    "titanic_df.filter(\n",
    "                    \"Name like 'K%'\"\n",
    "                 )                                               \\\n",
    "           .orderBy('Name', ascending=True)                      \\\n",
    "           .limit(5)                                       "
   ]
  },
  {
   "cell_type": "markdown",
   "metadata": {},
   "source": [
    "### and"
   ]
  },
  {
   "cell_type": "code",
   "execution_count": 37,
   "metadata": {},
   "outputs": [
    {
     "data": {
      "text/html": [
       "<table border='1'>\n",
       "<tr><th>PassengerId</th><th>Survived</th><th>Pclass</th><th>Name</th><th>Sex</th><th>Age</th><th>SibSp</th><th>Parch</th><th>Ticket</th><th>Fare</th><th>Cabin</th><th>Embarked</th></tr>\n",
       "<tr><td>892</td><td>0</td><td>3</td><td>Kelly, Mr. James</td><td>male</td><td>34.5</td><td>0</td><td>0</td><td>330911</td><td>7.8292</td><td>NULL</td><td>Q</td></tr>\n",
       "<tr><td>893</td><td>1</td><td>3</td><td>Wilkes, Mrs. Jame...</td><td>female</td><td>47.0</td><td>1</td><td>0</td><td>363272</td><td>7.0</td><td>NULL</td><td>S</td></tr>\n",
       "<tr><td>894</td><td>0</td><td>2</td><td>Myles, Mr. Thomas...</td><td>male</td><td>62.0</td><td>0</td><td>0</td><td>240276</td><td>9.6875</td><td>NULL</td><td>Q</td></tr>\n",
       "<tr><td>895</td><td>0</td><td>3</td><td>Wirz, Mr. Albert</td><td>male</td><td>27.0</td><td>0</td><td>0</td><td>315154</td><td>8.6625</td><td>NULL</td><td>S</td></tr>\n",
       "<tr><td>896</td><td>1</td><td>3</td><td>Hirvonen, Mrs. Al...</td><td>female</td><td>22.0</td><td>1</td><td>1</td><td>3101298</td><td>12.2875</td><td>NULL</td><td>S</td></tr>\n",
       "</table>\n"
      ],
      "text/plain": [
       "+-----------+--------+------+--------------------+------+----+-----+-----+-------+-------+-----+--------+\n",
       "|PassengerId|Survived|Pclass|                Name|   Sex| Age|SibSp|Parch| Ticket|   Fare|Cabin|Embarked|\n",
       "+-----------+--------+------+--------------------+------+----+-----+-----+-------+-------+-----+--------+\n",
       "|        892|       0|     3|    Kelly, Mr. James|  male|34.5|    0|    0| 330911| 7.8292| NULL|       Q|\n",
       "|        893|       1|     3|Wilkes, Mrs. Jame...|female|47.0|    1|    0| 363272|    7.0| NULL|       S|\n",
       "|        894|       0|     2|Myles, Mr. Thomas...|  male|62.0|    0|    0| 240276| 9.6875| NULL|       Q|\n",
       "|        895|       0|     3|    Wirz, Mr. Albert|  male|27.0|    0|    0| 315154| 8.6625| NULL|       S|\n",
       "|        896|       1|     3|Hirvonen, Mrs. Al...|female|22.0|    1|    1|3101298|12.2875| NULL|       S|\n",
       "+-----------+--------+------+--------------------+------+----+-----+-----+-------+-------+-----+--------+"
      ]
     },
     "execution_count": 37,
     "metadata": {},
     "output_type": "execute_result"
    }
   ],
   "source": [
    "# Разные варианты одного и того же действия AND\n",
    "\n",
    "#titanic_df.filter((F.col('Survived') == 1) & (F.col('Pclass') == 1))\n",
    "#titanic_df.filter(F.col('Survived') == 1).filter(F.col('Pclass') == 1)\n",
    "\n",
    "#titanic_df.filter((titanic_df['Survived'] == 1) & (titanic_df['Pclass'] == 1))\n",
    "#titanic_df.filter(titanic_df['Survived'] == 1).filter(titanic_df['Pclass'] == 1)\n",
    "\n",
    "titanic_df.filter(\"\"\"Survived == 1 and Pclass == 1\"\"\")\n",
    "\n",
    "titanic_df.limit(5)"
   ]
  },
  {
   "cell_type": "markdown",
   "metadata": {},
   "source": [
    "### or"
   ]
  },
  {
   "cell_type": "code",
   "execution_count": 41,
   "metadata": {},
   "outputs": [
    {
     "data": {
      "text/html": [
       "<table border='1'>\n",
       "<tr><th>PassengerId</th><th>Survived</th><th>Pclass</th><th>Name</th><th>Sex</th><th>Age</th><th>SibSp</th><th>Parch</th><th>Ticket</th><th>Fare</th><th>Cabin</th><th>Embarked</th></tr>\n",
       "<tr><td>892</td><td>0</td><td>3</td><td>Kelly, Mr. James</td><td>male</td><td>34.5</td><td>0</td><td>0</td><td>330911</td><td>7.8292</td><td>NULL</td><td>Q</td></tr>\n",
       "<tr><td>893</td><td>1</td><td>3</td><td>Wilkes, Mrs. Jame...</td><td>female</td><td>47.0</td><td>1</td><td>0</td><td>363272</td><td>7.0</td><td>NULL</td><td>S</td></tr>\n",
       "<tr><td>894</td><td>0</td><td>2</td><td>Myles, Mr. Thomas...</td><td>male</td><td>62.0</td><td>0</td><td>0</td><td>240276</td><td>9.6875</td><td>NULL</td><td>Q</td></tr>\n",
       "<tr><td>895</td><td>0</td><td>3</td><td>Wirz, Mr. Albert</td><td>male</td><td>27.0</td><td>0</td><td>0</td><td>315154</td><td>8.6625</td><td>NULL</td><td>S</td></tr>\n",
       "<tr><td>896</td><td>1</td><td>3</td><td>Hirvonen, Mrs. Al...</td><td>female</td><td>22.0</td><td>1</td><td>1</td><td>3101298</td><td>12.2875</td><td>NULL</td><td>S</td></tr>\n",
       "</table>\n"
      ],
      "text/plain": [
       "+-----------+--------+------+--------------------+------+----+-----+-----+-------+-------+-----+--------+\n",
       "|PassengerId|Survived|Pclass|                Name|   Sex| Age|SibSp|Parch| Ticket|   Fare|Cabin|Embarked|\n",
       "+-----------+--------+------+--------------------+------+----+-----+-----+-------+-------+-----+--------+\n",
       "|        892|       0|     3|    Kelly, Mr. James|  male|34.5|    0|    0| 330911| 7.8292| NULL|       Q|\n",
       "|        893|       1|     3|Wilkes, Mrs. Jame...|female|47.0|    1|    0| 363272|    7.0| NULL|       S|\n",
       "|        894|       0|     2|Myles, Mr. Thomas...|  male|62.0|    0|    0| 240276| 9.6875| NULL|       Q|\n",
       "|        895|       0|     3|    Wirz, Mr. Albert|  male|27.0|    0|    0| 315154| 8.6625| NULL|       S|\n",
       "|        896|       1|     3|Hirvonen, Mrs. Al...|female|22.0|    1|    1|3101298|12.2875| NULL|       S|\n",
       "+-----------+--------+------+--------------------+------+----+-----+-----+-------+-------+-----+--------+"
      ]
     },
     "execution_count": 41,
     "metadata": {},
     "output_type": "execute_result"
    }
   ],
   "source": [
    "# 3 варианта действия or\n",
    "#titanic_df.filter((F.col('Survived') == 1) | (F.col('Pclass') == 1))\n",
    "#titanic_df.filter((titanic_df['Survived'] == 1) | (titanic_df['Pclass'] == 1))\n",
    "titanic_df.filter(\"\"\"Survived == 1 or Pclass == 1\"\"\")\n",
    "\n",
    "titanic_df.limit(5)"
   ]
  },
  {
   "cell_type": "markdown",
   "metadata": {},
   "source": [
    "### distinct"
   ]
  },
  {
   "cell_type": "code",
   "execution_count": 59,
   "metadata": {},
   "outputs": [
    {
     "data": {
      "text/plain": [
       "418"
      ]
     },
     "execution_count": 59,
     "metadata": {},
     "output_type": "execute_result"
    }
   ],
   "source": [
    "titanic_df.select(titanic_df['Pclass']).count()"
   ]
  },
  {
   "cell_type": "code",
   "execution_count": 60,
   "metadata": {},
   "outputs": [
    {
     "data": {
      "text/plain": [
       "3"
      ]
     },
     "execution_count": 60,
     "metadata": {},
     "output_type": "execute_result"
    }
   ],
   "source": [
    "titanic_df.select(titanic_df['Pclass']).distinct().count()"
   ]
  },
  {
   "cell_type": "markdown",
   "metadata": {},
   "source": [
    "### join"
   ]
  },
  {
   "cell_type": "code",
   "execution_count": 10,
   "metadata": {},
   "outputs": [
    {
     "data": {
      "text/html": [
       "<table border='1'>\n",
       "<tr><th>PassengerId</th><th>Name</th><th>Sex</th><th>PassengerId</th><th>Pclass</th><th>Survived</th></tr>\n",
       "<tr><td>892</td><td>Kelly, Mr. James</td><td>male</td><td>892</td><td>3</td><td>0</td></tr>\n",
       "<tr><td>893</td><td>Wilkes, Mrs. Jame...</td><td>female</td><td>893</td><td>3</td><td>1</td></tr>\n",
       "<tr><td>894</td><td>Myles, Mr. Thomas...</td><td>male</td><td>894</td><td>2</td><td>0</td></tr>\n",
       "<tr><td>895</td><td>Wirz, Mr. Albert</td><td>male</td><td>895</td><td>3</td><td>0</td></tr>\n",
       "<tr><td>896</td><td>Hirvonen, Mrs. Al...</td><td>female</td><td>896</td><td>3</td><td>1</td></tr>\n",
       "</table>\n"
      ],
      "text/plain": [
       "+-----------+--------------------+------+-----------+------+--------+\n",
       "|PassengerId|                Name|   Sex|PassengerId|Pclass|Survived|\n",
       "+-----------+--------------------+------+-----------+------+--------+\n",
       "|        892|    Kelly, Mr. James|  male|        892|     3|       0|\n",
       "|        893|Wilkes, Mrs. Jame...|female|        893|     3|       1|\n",
       "|        894|Myles, Mr. Thomas...|  male|        894|     2|       0|\n",
       "|        895|    Wirz, Mr. Albert|  male|        895|     3|       0|\n",
       "|        896|Hirvonen, Mrs. Al...|female|        896|     3|       1|\n",
       "+-----------+--------------------+------+-----------+------+--------+"
      ]
     },
     "execution_count": 10,
     "metadata": {},
     "output_type": "execute_result"
    }
   ],
   "source": [
    "df_1 = titanic_df.select(\n",
    "                    'PassengerId',\n",
    "                    'Name',\n",
    "                    'Sex'\n",
    "                  )\n",
    "df_2 = titanic_df.select(\n",
    "                    'PassengerId',\n",
    "                    'Pclass',\n",
    "                    'Survived'\n",
    "                  )\n",
    "joinExpression = df_1['PassengerId'] == df_2['PassengerId']\n",
    "joined_Df = df_1.join(df_2, joinExpression, 'inner')\n",
    "joined_Df.limit(5)"
   ]
  },
  {
   "cell_type": "markdown",
   "metadata": {},
   "source": [
    "### union"
   ]
  },
  {
   "cell_type": "code",
   "execution_count": 11,
   "metadata": {},
   "outputs": [
    {
     "data": {
      "text/plain": [
       "836"
      ]
     },
     "execution_count": 11,
     "metadata": {},
     "output_type": "execute_result"
    }
   ],
   "source": [
    "united = df_1.union(df_2)\n",
    "united.count()"
   ]
  },
  {
   "cell_type": "markdown",
   "metadata": {},
   "source": [
    "### agg all data"
   ]
  },
  {
   "cell_type": "code",
   "execution_count": 18,
   "metadata": {},
   "outputs": [
    {
     "data": {
      "text/html": [
       "<table border='1'>\n",
       "<tr><th>sum(Age)</th></tr>\n",
       "<tr><td>10050.5</td></tr>\n",
       "</table>\n"
      ],
      "text/plain": [
       "+--------+\n",
       "|sum(Age)|\n",
       "+--------+\n",
       "| 10050.5|\n",
       "+--------+"
      ]
     },
     "execution_count": 18,
     "metadata": {},
     "output_type": "execute_result"
    }
   ],
   "source": [
    "titanic_df.select(F.sum('Age'))"
   ]
  },
  {
   "cell_type": "markdown",
   "metadata": {},
   "source": [
    "### GroupBy"
   ]
  },
  {
   "cell_type": "code",
   "execution_count": 19,
   "metadata": {},
   "outputs": [
    {
     "name": "stdout",
     "output_type": "stream",
     "text": [
      "+------+--------+\n",
      "|Pclass|sum(Age)|\n",
      "+------+--------+\n",
      "|     1|  4010.0|\n",
      "|     3| 3508.08|\n",
      "|     2| 2532.42|\n",
      "+------+--------+\n",
      "\n"
     ]
    }
   ],
   "source": [
    "titanic_df.groupBy('Pclass').sum('Age').show()"
   ]
  },
  {
   "cell_type": "code",
   "execution_count": 20,
   "metadata": {},
   "outputs": [
    {
     "name": "stderr",
     "output_type": "stream",
     "text": [
      "                                                                                \r"
     ]
    },
    {
     "data": {
      "text/html": [
       "<table border='1'>\n",
       "<tr><th>Pclass</th><th>sum(Age)</th><th>max(Age)</th><th>min(Age)</th><th>avg(Age)</th></tr>\n",
       "<tr><td>1</td><td>4010.0</td><td>76.0</td><td>6.0</td><td>40.91836734693877</td></tr>\n",
       "<tr><td>3</td><td>3508.08</td><td>60.5</td><td>0.17</td><td>24.02794520547945</td></tr>\n",
       "<tr><td>2</td><td>2532.42</td><td>63.0</td><td>0.92</td><td>28.7775</td></tr>\n",
       "</table>\n"
      ],
      "text/plain": [
       "+------+--------+--------+--------+-----------------+\n",
       "|Pclass|sum(Age)|max(Age)|min(Age)|         avg(Age)|\n",
       "+------+--------+--------+--------+-----------------+\n",
       "|     1|  4010.0|    76.0|     6.0|40.91836734693877|\n",
       "|     3| 3508.08|    60.5|    0.17|24.02794520547945|\n",
       "|     2| 2532.42|    63.0|    0.92|          28.7775|\n",
       "+------+--------+--------+--------+-----------------+"
      ]
     },
     "execution_count": 20,
     "metadata": {},
     "output_type": "execute_result"
    }
   ],
   "source": [
    "titanic_df.groupBy('Pclass')                            \\\n",
    "          .agg(                     \n",
    "                  F.sum('Age'), \n",
    "                  F.max('Age'), \n",
    "                  F.min('Age'), \n",
    "                  F.avg('Age'))"
   ]
  }
 ],
 "metadata": {
  "kernelspec": {
   "display_name": ".venv",
   "language": "python",
   "name": "python3"
  },
  "language_info": {
   "codemirror_mode": {
    "name": "ipython",
    "version": 3
   },
   "file_extension": ".py",
   "mimetype": "text/x-python",
   "name": "python",
   "nbconvert_exporter": "python",
   "pygments_lexer": "ipython3",
   "version": "3.11.9"
  }
 },
 "nbformat": 4,
 "nbformat_minor": 2
}
