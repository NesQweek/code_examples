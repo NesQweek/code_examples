{
 "cells": [
  {
   "cell_type": "code",
   "execution_count": null,
   "metadata": {},
   "outputs": [],
   "source": [
    "import pandas as pd\n",
    "import numpy as np\n",
    "import os\n",
    "from datetime import datetime, timedelta\n",
    "import time\n",
    "import matplotlib.pyplot as plt\n",
    "import mplfinance as mpf\n",
    "\n",
    "# !!!\n",
    "# Установка TA-lib под разную OS отличается, гугли как сделать make/nmake прежде чем pip install TA-lib"
   ]
  },
  {
   "cell_type": "code",
   "execution_count": null,
   "metadata": {},
   "outputs": [],
   "source": [
    "script_path = os.path.abspath(\"__file__\") # Определяет путь до скрипта               \n",
    "directory = os.path.dirname(script_path) # Определяет путь до папки проекта\n",
    "csv_folder = os.path.join(directory, 'data')\n",
    "abs_paths_csv_files_list = [os.path.join(csv_folder, file) for file in os.listdir(csv_folder)]"
   ]
  },
  {
   "cell_type": "code",
   "execution_count": null,
   "metadata": {},
   "outputs": [],
   "source": [
    "#############################################################  DATA LOADING  #############################################################\n",
    "df = pd.read_csv(abs_paths_csv_files_list[0])\n",
    "\n",
    "# convert time to datetime format\n",
    "df['Time'] = pd.to_datetime(df['Time'], unit='ms')\n",
    "df['Time_alert'] = pd.to_datetime(df['Time_alert'], unit='ms')\n",
    "alerting = df[df['Time'] == df['Time_alert']]"
   ]
  },
  {
   "cell_type": "code",
   "execution_count": null,
   "metadata": {},
   "outputs": [],
   "source": [
    "############################################################## DROP COLUMNS ########################################################\n",
    "def drop_columns(df):\n",
    "    df = df.drop(['Quote asset volume', 'Number of trades', 'Price_alert', 'Close time', 'Time_alert', 'Taker buy base asset volume'], axis=1)\n",
    "    df.set_index('Time', inplace=True)\n",
    "    return df\n",
    "\n",
    "df = drop_columns(df)\n",
    "alerting = drop_columns(alerting)\n",
    "\n",
    "alert_date = alerting.iloc[0].name\n",
    "alert_date"
   ]
  },
  {
   "cell_type": "code",
   "execution_count": null,
   "metadata": {},
   "outputs": [],
   "source": [
    "############################################################### SUPPORT LEVELS #############################################################\n",
    "# Здесь группирую по частоте повторений закрытых позиций и нахожу точки в которых чаще всего останавливается график\n",
    "df = df.groupby('Close').filter(lambda x: len(x) >= 1)\n",
    "value_counts = df['Close'].value_counts()\n",
    "total_counts = value_counts.sum()\n",
    "df['Frequency'] = df['Close'].map(value_counts)\n",
    "df['Importance'] = (df['Frequency'] / total_counts * 100).round(2)"
   ]
  },
  {
   "cell_type": "code",
   "execution_count": null,
   "metadata": {},
   "outputs": [],
   "source": [
    "# Определение уровней поддержки\n",
    "unique_frequencies = df['Frequency'].unique()\n",
    "strong_support = [unique_frequencies.max()]\n",
    "low_support = [unique_frequencies.min()]\n",
    "other_supports = unique_frequencies[(unique_frequencies != strong_support) & (unique_frequencies != low_support)]"
   ]
  },
  {
   "cell_type": "code",
   "execution_count": null,
   "metadata": {},
   "outputs": [],
   "source": [
    "delta_threshold = (df['Close'].max() - df['Close'].min())/20  # 5% \n",
    "delta_threshold"
   ]
  },
  {
   "cell_type": "code",
   "execution_count": null,
   "metadata": {},
   "outputs": [],
   "source": [
    "import ta_indicators\n",
    "# Добавление в датафрейм индикаторных признаков \n",
    "df = ta_indicators.add_features(df)\n",
    "\n",
    "# добавление MA_50\n",
    "def calculate_moving_average(data, window):\n",
    "    return data.rolling(window=window).mean()\n",
    "\n",
    "# calculate moving averages\n",
    "df['MA_50'] = calculate_moving_average(df['Close'], 50)\n"
   ]
  },
  {
   "cell_type": "code",
   "execution_count": null,
   "metadata": {},
   "outputs": [],
   "source": [
    "df.dropna(inplace=True)"
   ]
  },
  {
   "cell_type": "code",
   "execution_count": null,
   "metadata": {},
   "outputs": [],
   "source": [
    "df['apo_macd'] = 0\n",
    "df.loc[df['apo'] < df['macd_hist'], 'apo_macd'] = 1\n",
    "\n",
    "df['ema_MA_50'] = 0\n",
    "df.loc[df['ema'] < df['MA_50'], 'ema_MA_50'] = 1"
   ]
  },
  {
   "cell_type": "code",
   "execution_count": null,
   "metadata": {},
   "outputs": [],
   "source": [
    "import plot_tools\n",
    "colors_list_h, linewidths_list_h, hlines = plot_tools.supports_params(df, strong_support, other_supports)\n",
    "hlines # уровни поддержки"
   ]
  },
  {
   "cell_type": "code",
   "execution_count": null,
   "metadata": {},
   "outputs": [],
   "source": [
    "i = 0\n",
    "while i < len(hlines) - 1:\n",
    "    if abs(hlines[i] - hlines[i+1]) < delta_threshold:\n",
    "        average = (hlines[i] + hlines[i+1]) / 2\n",
    "        del hlines[i:i+2]\n",
    "        hlines.insert(i, average)\n",
    "    else:\n",
    "        i += 1\n",
    "hlines # уровни поддержки прореженные"
   ]
  },
  {
   "cell_type": "code",
   "execution_count": null,
   "metadata": {},
   "outputs": [],
   "source": [
    "def dist_to_support_level(close_value, support_levels):\n",
    "\n",
    "    if len(hlines) > 1:\n",
    "        support_levels.sort()\n",
    "\n",
    "        for i in range(len(support_levels) - 1):\n",
    "            delta1 = abs(support_levels[i] - close_value)\n",
    "            delta2 = abs(support_levels[i + 1] - close_value)\n",
    "\n",
    "            if delta1 < delta2:\n",
    "                return support_levels[i], delta1\n",
    "            else:\n",
    "                return support_levels[i + 1], delta2\n",
    "            \n",
    "    else:\n",
    "        delta = support_levels[0] - row['Close']\n",
    "        return support_levels[0], delta\n",
    "\n",
    "    return None, None\n",
    "\n",
    "\n",
    "df['nearest_support'] = None\n",
    "df['delta'] = None\n",
    "\n",
    "for index, row in df.iterrows():\n",
    "    nearest_level, delta = dist_to_support_level(row['Close'], hlines)\n",
    "    df.at[index, 'nearest_support'] = nearest_level\n",
    "    df.at[index, 'delta'] = delta\n"
   ]
  },
  {
   "cell_type": "code",
   "execution_count": null,
   "metadata": {},
   "outputs": [],
   "source": [
    "# Нахождение уровней поддержки / сопротивления по условиям\n",
    "mask = (df['Close'] > df['nearest_support']) & (df['Close'].shift(1) <= df['nearest_support']) & (df['delta'].shift(5) > delta_threshold)\n",
    "resistance_break = df[mask]\n",
    "resistance_break = list(resistance_break.index)\n",
    "\n",
    "mask = (df['Close'] < df['nearest_support']) & (df['Close'].shift(1) > df['nearest_support'])# & (df['Close'].shift(-10) < df['nearest_support'])\n",
    "support_break = df[mask]\n",
    "support_break = list(support_break.index)\n",
    "\n",
    "all_timestamps = list(df.index)"
   ]
  },
  {
   "cell_type": "code",
   "execution_count": null,
   "metadata": {},
   "outputs": [],
   "source": [
    "# Фильтрация избыточных уровней\n",
    "\n",
    "from datetime import datetime, timedelta\n",
    "delta = timedelta(minutes=20)\n",
    "\n",
    "all_timestamps = list(df.index)\n",
    "\n",
    "first_timestamp = df.iloc[0].name\n",
    "last_timestamp = df.iloc[-1].name\n",
    "\n",
    "filtered_resist = []\n",
    "filtered_support = []\n",
    "\n",
    "current_timestamp = first_timestamp\n",
    "while current_timestamp <= last_timestamp:\n",
    "    start_timestamp = current_timestamp\n",
    "    end_timestamp = start_timestamp + delta\n",
    "\n",
    "    current_interval = [timestamp for timestamp in all_timestamps if start_timestamp <= timestamp <= end_timestamp]\n",
    "\n",
    "    min_timestamp = None\n",
    "    max_timestamp = None\n",
    "    for timestamp in current_interval:\n",
    "        if timestamp in resistance_break:\n",
    "            if min_timestamp is None or timestamp < min_timestamp:\n",
    "                min_timestamp = timestamp\n",
    "\n",
    "        if timestamp in support_break:\n",
    "            if max_timestamp is None or timestamp > max_timestamp:\n",
    "                max_timestamp = timestamp\n",
    "\n",
    "    if min_timestamp is not None:\n",
    "        filtered_resist.append(min_timestamp)\n",
    "\n",
    "    if max_timestamp is not None:\n",
    "        filtered_support.append(max_timestamp)\n",
    "\n",
    "    current_timestamp += delta\n",
    "\n",
    "resistance_break = filtered_resist\n",
    "support_break = filtered_support\n",
    "\n",
    "print('resistance_lines:')\n",
    "for timestamp in filtered_resist:\n",
    "    print(timestamp)\n",
    "\n",
    "print('support_lines:')\n",
    "for timestamp in filtered_support:\n",
    "    print(timestamp)"
   ]
  },
  {
   "cell_type": "code",
   "execution_count": null,
   "metadata": {},
   "outputs": [],
   "source": [
    "resistance_break_color = ['green' for i in range(len(resistance_break))]\n",
    "support_break_color = ['red' for i in range(len(support_break))]\n",
    "\n",
    "alert_color = 'orange'\n",
    "\n",
    "vlines = [alert_date] + resistance_break + support_break\n",
    "colors = [alert_color] + resistance_break_color + support_break_color"
   ]
  },
  {
   "cell_type": "code",
   "execution_count": null,
   "metadata": {},
   "outputs": [],
   "source": [
    "\n",
    "kwargs = {\n",
    "    'type': 'candle',\n",
    "    'volume': True,\n",
    "    'hlines': dict(hlines=hlines, colors=colors_list_h, linewidths=0.1), # Гор.линии уровней поддержки\n",
    "    'vlines': dict(vlines=vlines, colors=colors), # Верт.линия события алерта\n",
    "    'figratio': (3, 1),\n",
    "    'style': plot_tools.get_style()\n",
    "}\n",
    "\n",
    "\n",
    "plot_ = [\n",
    "\n",
    "    mpf.make_addplot(df['MA_50'], color='yellow', panel=0),\n",
    "    mpf.make_addplot(df['ema'], color='green', panel=0),\n",
    "    mpf.make_addplot(df['apo'], color='orange', panel=1),\n",
    "    mpf.make_addplot(df['macd_hist'], color='blue', panel=1),\n",
    "]\n",
    "\n",
    "mpf.plot(df, addplot=plot_, **kwargs)"
   ]
  },
  {
   "cell_type": "code",
   "execution_count": null,
   "metadata": {},
   "outputs": [],
   "source": [
    "resistance_break = pd.to_datetime(resistance_break)\n",
    "resistance_df = df[df.index.isin(resistance_break)]\n",
    "\n",
    "support_break = pd.to_datetime(support_break)\n",
    "support_df = df[df.index.isin(support_break)]"
   ]
  },
  {
   "cell_type": "code",
   "execution_count": null,
   "metadata": {},
   "outputs": [],
   "source": [
    "# Разметка пробоя уровней поддержки и сопротивления\n",
    "\n",
    "df['breakdown'] = 0\n",
    "\n",
    "df.loc[df.index.isin(resistance_break), 'breakdown'] = 1\n",
    "df.loc[df.index.isin(support_break), 'breakdown'] = -1"
   ]
  },
  {
   "cell_type": "code",
   "execution_count": null,
   "metadata": {},
   "outputs": [],
   "source": [
    "df[df['breakdown'] == 1]"
   ]
  },
  {
   "cell_type": "code",
   "execution_count": null,
   "metadata": {},
   "outputs": [],
   "source": [
    "df[df['breakdown'] == -1]"
   ]
  },
  {
   "cell_type": "code",
   "execution_count": null,
   "metadata": {},
   "outputs": [],
   "source": [
    "from IPython.display import clear_output\n",
    "\n",
    "kwargs = {\n",
    "    'type': 'candle',\n",
    "    'volume': True,\n",
    "    'figratio': (3, 1),\n",
    "    'style': plot_tools.get_style()\n",
    "}\n",
    "\n",
    "\n",
    "enter_deal = []\n",
    "exit_deal = []\n",
    "result = 0\n",
    "\n",
    "df_copy = pd.DataFrame(columns=['Open', 'Low', 'High', 'Close', 'Volume'], dtype='float64')\n",
    "df_copy[['Open', 'Low', 'High', 'Close']] = df_copy[['Open', 'Low', 'High', 'Close']].astype('float64')\n",
    "df_copy['Volume'] = df_copy['Volume'].astype('int64')\n",
    "\n",
    "df_copy.index.name = 'Time'\n",
    "\n",
    "\n",
    "for index in range(5, len(df)):\n",
    "\n",
    "    event=False\n",
    "\n",
    "    row = df.iloc[index]\n",
    "    time_index = df.index[index]\n",
    "\n",
    "    prev_row = df.shift(1).loc[time_index]\n",
    "    prev_row_5 = df.shift(5).loc[time_index]\n",
    "\n",
    "    price = row['Close']\n",
    "\n",
    "    if row['breakdown'] == 1:\n",
    "        print(f'Вход в позицию: {time_index}, Цена: {price}')\n",
    "        enter_deal.append((time_index, price))\n",
    "        event=True\n",
    "    elif row['breakdown'] == 0 and row['apo_macd'] == 0 and (len(enter_deal) != len(exit_deal)):\n",
    "        exit_deal.append((time_index, price))\n",
    "        deal = exit_deal[-1][1] - enter_deal[-1][1]\n",
    "        result += deal\n",
    "        print(f'Выход из позиции: {time_index}, Цена: {price} Прибыль: {deal}')\n",
    "        event=True\n",
    "    elif time_index == alert_date:\n",
    "        print('Alert')\n",
    "        alert_color = 'orange'\n",
    "\n",
    "        vlines = [alert_date]\n",
    "        colors = [alert_color] \n",
    "        event=True\n",
    "        \n",
    "    else: \n",
    "        print(time_index)\n",
    "        \n",
    "\n",
    "    row_to_add = df.iloc[index][['Open', 'Low', 'High', 'Close', 'Volume']]\n",
    "\n",
    "    row_to_add = row_to_add.astype(float)\n",
    "\n",
    "    df_copy.loc[time_index] = row_to_add\n",
    "\n",
    "\n",
    "    mpf.plot(df_copy, **kwargs)\n",
    "\n",
    "    clear_output(wait=True)\n",
    "\n",
    "    if event:\n",
    "        time.sleep(3)\n",
    "    else: time.sleep(0.2)\n",
    "\n",
    "\n",
    "\n",
    "print()\n",
    "print('Прибыль:', result)\n",
    "\n"
   ]
  },
  {
   "cell_type": "code",
   "execution_count": null,
   "metadata": {},
   "outputs": [],
   "source": []
  }
 ],
 "metadata": {
  "kernelspec": {
   "display_name": "Python 3",
   "language": "python",
   "name": "python3"
  },
  "language_info": {
   "codemirror_mode": {
    "name": "ipython",
    "version": 3
   },
   "file_extension": ".py",
   "mimetype": "text/x-python",
   "name": "python",
   "nbconvert_exporter": "python",
   "pygments_lexer": "ipython3",
   "version": "3.9.0"
  }
 },
 "nbformat": 4,
 "nbformat_minor": 2
}
