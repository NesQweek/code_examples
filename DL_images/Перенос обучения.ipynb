{
 "cells": [
  {
   "cell_type": "code",
   "execution_count": 1,
   "metadata": {},
   "outputs": [],
   "source": [
    "import tensorflow as tf\n",
    "from tensorflow.keras.preprocessing.image import ImageDataGenerator\n",
    "from tensorflow.keras.models import Model\n",
    "from tensorflow.keras.layers import Input, Flatten, Dense, Dropout, GlobalAveragePooling2D\n",
    "from tensorflow.keras.applications.mobilenet import MobileNet, preprocess_input\n",
    "import math\n",
    "import PIL\n",
    "import zipfile\n",
    "import os"
   ]
  },
  {
   "cell_type": "code",
   "execution_count": 2,
   "metadata": {},
   "outputs": [],
   "source": [
    "TRAIN_DATA_DIR = './data/train/'\n",
    "VALIDATION_DATA_DIR = './data/val/'\n",
    "TRAIN_SAMPLES = 500\n",
    "VALIDATION_SAMPLES = 500\n",
    "NUM_CLASSES = 2\n",
    "IMG_WIDTH, IMG_HEIGHT = 224, 224\n",
    "BATCH_SIZE = 64"
   ]
  },
  {
   "cell_type": "code",
   "execution_count": 3,
   "metadata": {},
   "outputs": [
    {
     "name": "stdout",
     "output_type": "stream",
     "text": [
      "Num GPUs Available:  1\n"
     ]
    }
   ],
   "source": [
    "print(\"Num GPUs Available: \", len(tf.config.list_physical_devices('GPU')))"
   ]
  },
  {
   "cell_type": "markdown",
   "metadata": {},
   "source": [
    "## Загрузка данных\n",
    "\n",
    "Цветные изображения обычно имеют 3 канала: красный, зеленый и синий, каждый из которых имеет значение интенсивности в диапазоне от 0 до 255. Чтобы его нормализовать (т.е. привести значение от 0 до 1) можно изменить масштаб изображения, разделив каждый пиксель на 255. Либо использовать значение по умолчанию ` preprocess_input` в Keras, которая сама выполняет предварительную обработку."
   ]
  },
  {
   "cell_type": "code",
   "execution_count": 4,
   "metadata": {},
   "outputs": [],
   "source": [
    "train_datagen = ImageDataGenerator(preprocessing_function=preprocess_input,\n",
    "                                   rotation_range=20,\n",
    "                                   width_shift_range=0.2,\n",
    "                                   height_shift_range=0.2,\n",
    "                                   zoom_range=0.2)\n",
    "val_datagen = ImageDataGenerator(preprocessing_function=preprocess_input)"
   ]
  },
  {
   "cell_type": "markdown",
   "metadata": {},
   "source": [
    "- Обучение по одному изображению за раз может быть довольно неэффективным, поэтому следует объединить их в батчи.\n",
    "- Чтобы добавить больше случайности в процесс обучения будет использоваться перемешивание в каждом батче shuffle=True\n",
    "- Чтобы обеспечить воспроизводимость при нескольких запусках одной и той же программы, генератору случайных чисел задается seed."
   ]
  },
  {
   "cell_type": "code",
   "execution_count": 5,
   "metadata": {},
   "outputs": [
    {
     "name": "stdout",
     "output_type": "stream",
     "text": [
      "Found 500 images belonging to 2 classes.\n",
      "Found 500 images belonging to 2 classes.\n"
     ]
    }
   ],
   "source": [
    "train_generator = train_datagen.flow_from_directory(TRAIN_DATA_DIR,\n",
    "                                                    target_size=(IMG_WIDTH,\n",
    "                                                                 IMG_HEIGHT),\n",
    "                                                    batch_size=BATCH_SIZE,\n",
    "                                                    shuffle=True,\n",
    "                                                    seed=12345,\n",
    "                                                    class_mode='categorical')\n",
    "validation_generator = val_datagen.flow_from_directory(\n",
    "    VALIDATION_DATA_DIR,\n",
    "    target_size=(IMG_WIDTH, IMG_HEIGHT),\n",
    "    batch_size=BATCH_SIZE,\n",
    "    shuffle=False,\n",
    "    class_mode='categorical')"
   ]
  },
  {
   "cell_type": "markdown",
   "metadata": {},
   "source": [
    "### Создает кастомную модель глубокого обучения на основе предварительно обученной модели MobileNet."
   ]
  },
  {
   "cell_type": "code",
   "execution_count": 6,
   "metadata": {},
   "outputs": [],
   "source": [
    "# Загружает базовую модель MobileNet, без верхнего слоя (include_top=False) и с указанием размера входных изображений (IMG_WIDTH, IMG_HEIGHT, 3)\n",
    "# Устанавливает все слои базовой модели как необучаемые (trainable=False), чтобы использовать их в качестве экстрактора признаков.\n",
    "# Создает новый входной слой с тем же размером, что и входные изображения.\n",
    "# Применяет базовую модель MobileNet к новому входному слою, получая некоторое количество карт признаков.\n",
    "# Добавляет слой GlobalAveragePooling2D, чтобы сжать карты признаков в один вектор.\n",
    "# Добавляет полносвязный слой с 64 нейронами и функцией активации ReLU.\n",
    "# Добавляет слой Dropout с коэффициентом 0.2 для регуляризации (для больших датасетов можно увеличить до 0.5)\n",
    "# Добавляет выходной полносвязный слой с NUM_CLASSES нейронами и функцией активации softmax для классификации\n",
    "# Возвращает итоговую модель, которая принимает на вход изображения размера (IMG_WIDTH, IMG_HEIGHT, 3) и выдает предсказания для NUM_CLASSES классов.\n",
    "\n",
    "def model_maker():\n",
    "    base_model = MobileNet(include_top=False,\n",
    "                           input_shape=(IMG_WIDTH, IMG_HEIGHT, 3))\n",
    "    for layer in base_model.layers[:]:\n",
    "        layer.trainable = False\n",
    "    input = Input(shape=(IMG_WIDTH, IMG_HEIGHT, 3))\n",
    "    custom_model = base_model(input)\n",
    "    custom_model = GlobalAveragePooling2D()(custom_model)\n",
    "    custom_model = Dense(64, activation='relu')(custom_model)\n",
    "    custom_model = Dropout(0.2)(custom_model)\n",
    "    predictions = Dense(NUM_CLASSES, activation='softmax')(custom_model)\n",
    "    return Model(inputs=input, outputs=predictions)"
   ]
  },
  {
   "cell_type": "code",
   "execution_count": 7,
   "metadata": {},
   "outputs": [
    {
     "name": "stdout",
     "output_type": "stream",
     "text": [
      "Epoch 1/10\n",
      "8/8 [==============================] - 30s 2s/step - loss: 0.5989 - acc: 0.7360 - val_loss: 0.1808 - val_acc: 0.9500\n",
      "Epoch 2/10\n",
      "8/8 [==============================] - 12s 2s/step - loss: 0.1843 - acc: 0.9240 - val_loss: 0.1221 - val_acc: 0.9580\n",
      "Epoch 3/10\n",
      "8/8 [==============================] - 12s 2s/step - loss: 0.1208 - acc: 0.9520 - val_loss: 0.0837 - val_acc: 0.9700\n",
      "Epoch 4/10\n",
      "8/8 [==============================] - 12s 2s/step - loss: 0.0892 - acc: 0.9640 - val_loss: 0.0792 - val_acc: 0.9640\n",
      "Epoch 5/10\n",
      "8/8 [==============================] - 12s 2s/step - loss: 0.0797 - acc: 0.9620 - val_loss: 0.0721 - val_acc: 0.9660\n",
      "Epoch 6/10\n",
      "8/8 [==============================] - 12s 2s/step - loss: 0.0498 - acc: 0.9880 - val_loss: 0.0667 - val_acc: 0.9680\n",
      "Epoch 7/10\n",
      "8/8 [==============================] - 12s 2s/step - loss: 0.0592 - acc: 0.9680 - val_loss: 0.0646 - val_acc: 0.9780\n",
      "Epoch 8/10\n",
      "8/8 [==============================] - 12s 2s/step - loss: 0.0490 - acc: 0.9800 - val_loss: 0.0614 - val_acc: 0.9800\n",
      "Epoch 9/10\n",
      "8/8 [==============================] - 12s 2s/step - loss: 0.0422 - acc: 0.9860 - val_loss: 0.0570 - val_acc: 0.9800\n",
      "Epoch 10/10\n",
      "8/8 [==============================] - 12s 2s/step - loss: 0.0276 - acc: 0.9900 - val_loss: 0.0577 - val_acc: 0.9800\n"
     ]
    },
    {
     "data": {
      "text/plain": [
       "<keras.callbacks.History at 0x26dad4a6ce0>"
      ]
     },
     "execution_count": 7,
     "metadata": {},
     "output_type": "execute_result"
    }
   ],
   "source": [
    "model = model_maker()\n",
    "model.compile(loss='categorical_crossentropy',\n",
    "              optimizer=tf.keras.optimizers.Adam(0.001),\n",
    "              metrics=['acc'])\n",
    "model.fit(\n",
    "    train_generator,\n",
    "    steps_per_epoch=math.ceil(float(TRAIN_SAMPLES) / BATCH_SIZE),\n",
    "    epochs=10,\n",
    "    validation_data=validation_generator,\n",
    "    validation_steps=math.ceil(float(VALIDATION_SAMPLES) / BATCH_SIZE))"
   ]
  },
  {
   "cell_type": "code",
   "execution_count": 8,
   "metadata": {},
   "outputs": [],
   "source": [
    "model.save('model.h5')"
   ]
  },
  {
   "cell_type": "markdown",
   "metadata": {},
   "source": [
    "# Предикт модели"
   ]
  },
  {
   "cell_type": "code",
   "execution_count": 9,
   "metadata": {},
   "outputs": [],
   "source": [
    "from tensorflow.keras.models import load_model\n",
    "from tensorflow.keras.preprocessing import image\n",
    "import numpy as np\n",
    "model = load_model('model.h5')"
   ]
  },
  {
   "cell_type": "code",
   "execution_count": 12,
   "metadata": {},
   "outputs": [
    {
     "name": "stdout",
     "output_type": "stream",
     "text": [
      "[[4.2966454e-05 9.9995708e-01]]\n",
      "{'cat': 0, 'dog': 1}\n"
     ]
    }
   ],
   "source": [
    "img_path = './sample-images/dog.jpg'\n",
    "img = image.load_img(img_path, target_size=(224, 224))\n",
    "img_array = image.img_to_array(img)\n",
    "expanded_img_array = np.expand_dims(img_array, axis=0)\n",
    "preprocessed_img = expanded_img_array / 255.  # Preprocess the image\n",
    "prediction = model.predict(preprocessed_img)\n",
    "print(prediction)\n",
    "print(validation_generator.class_indices)"
   ]
  },
  {
   "cell_type": "code",
   "execution_count": null,
   "metadata": {},
   "outputs": [],
   "source": []
  }
 ],
 "metadata": {
  "kernelspec": {
   "display_name": "Python 3",
   "language": "python",
   "name": "python3"
  },
  "language_info": {
   "codemirror_mode": {
    "name": "ipython",
    "version": 3
   },
   "file_extension": ".py",
   "mimetype": "text/x-python",
   "name": "python",
   "nbconvert_exporter": "python",
   "pygments_lexer": "ipython3",
   "version": "3.10.14"
  }
 },
 "nbformat": 4,
 "nbformat_minor": 2
}
